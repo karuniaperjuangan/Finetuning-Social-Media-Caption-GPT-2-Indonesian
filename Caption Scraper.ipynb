{
 "cells": [
  {
   "cell_type": "code",
   "execution_count": 9,
   "metadata": {},
   "outputs": [],
   "source": [
    "from bs4 import BeautifulSoup\n",
    "import pandas as pd\n",
    "import os\n",
    "import re"
   ]
  },
  {
   "cell_type": "code",
   "execution_count": 10,
   "metadata": {},
   "outputs": [],
   "source": [
    "\n",
    "def deEmojify(text):\n",
    "    regrex_pattern = re.compile(pattern = \"[\"\n",
    "        u\"\\U0001F600-\\U0001F64F\"  # emoticons\n",
    "        u\"\\U0001F300-\\U0001F5FF\"  # symbols & pictographs\n",
    "        u\"\\U0001F680-\\U0001F6FF\"  # transport & map symbols\n",
    "        u\"\\U0001F1E0-\\U0001F1FF\"  # flags (iOS)\n",
    "                           \"]+\", flags = re.UNICODE)\n",
    "    return regrex_pattern.sub(r'',text)\n",
    "\n",
    "def remove_url(text):\n",
    "    return re.sub(r'\\w+:\\/{2}[\\d\\w-]+(\\.[\\d\\w-]+)*(?:(?:\\/[^\\s/]*))*', '(Sebuah tautan)', text)\n",
    "\n",
    "def remove_identity(text):\n",
    "    return re.sub(r'\\n(Biro|Bidang|Kabinet|Divisi|Departemen|Himpunan|#|Line|Twitter|Instagram|Facebook|Youtube|Ask fm|Wa|WA|@).*', '\\n\\n', text)"
   ]
  },
  {
   "cell_type": "code",
   "execution_count": 11,
   "metadata": {},
   "outputs": [],
   "source": [
    "separator = \"<|endoftext|>\""
   ]
  },
  {
   "cell_type": "code",
   "execution_count": 12,
   "metadata": {},
   "outputs": [],
   "source": [
    "list_caption = []\n",
    "for file in os.listdir(\"Bahan Scraping\"):\n",
    "    with open(\"Bahan Scraping/\"+file,  encoding=\"utf8\") as fp:\n",
    "        soup = BeautifulSoup(fp, 'html.parser')\n",
    "        list_caption.extend( [i.get('alt') for i in soup.find_all('img') \n",
    "                            if re.search(r'\\[(.*?)\\]', i.get('alt',\"\"))]) \n",
    "list_caption = list(dict.fromkeys(list_caption))"
   ]
  },
  {
   "cell_type": "code",
   "execution_count": 13,
   "metadata": {},
   "outputs": [],
   "source": [
    "df = pd.DataFrame(list_caption, columns=['raw_caption'])\n",
    "\n",
    "\n",
    "#title is inside bracket\n",
    "df['title'] = df['raw_caption'].str.extract(r'\\[(.*?)\\]', expand=False)\n",
    "\n",
    "#Remove title from caption, remove leading newline, remove emoji\n",
    "df['content'] = df['raw_caption'].apply(lambda x: deEmojify(x)).apply(lambda x: remove_url(x)).apply(lambda x: remove_identity(x)).str.split(r'\\[.*?\\]').apply(lambda x: x[-1]).apply(lambda x: x.lstrip()).apply(lambda x : re.sub(r'\\n+', '\\n',x))\n",
    "\n",
    "df['processed'] = df.apply(lambda x: x['title']+\" - \"+x['content'], axis=1)\n"
   ]
  },
  {
   "cell_type": "code",
   "execution_count": 27,
   "metadata": {},
   "outputs": [
    {
     "name": "stdout",
     "output_type": "stream",
     "text": [
      "ACTION PLAN PPSMB UGM 2020 - Xayrli kun, Gadjah Mada Muda! (Xayrli kun merupakaan sapaan selamat sore dalam bahasa Uzbek)\n",
      "Setelah melalui berbagai rangkaian kegiatan pada PPSMB UGM 2020, Gamada akan melaksanakan kegiatan action plan sebagai wadah untuk berkontribusi nyata pada lingkungan sekitar. Pada PPSMB UGM 2020, Action Plan dilakukan oleh masing-masing Gamada pada wilayah tempat tinggal masing-masing.\n",
      "Selamat kepada Gamada yang telah meraih penghargaaan Action Plan terbaik.\n",
      "Video:\n",
      "Juara 1 : Aisya Rahmadani Humaningayu dari Harjono Danoesastro 18\n",
      "Juara 2 : Maria Ratnasari Anggraini Santoso dari Sardjito 19\n",
      "Juara 3 : Wahyu Cahyo S. dari Poerbatjaraka 5\n",
      "Juara Harapan 1 : Hardian Ridho A. dari Notonagoro 3\n",
      "Juara Harapan 2 : Rajendra Yodha P.S. dari Poerbatjaraka 3\n",
      "Juara Harapan 3 : Fanesa Dwina dari Kertanegara 6\n",
      "Esai:\n",
      "Juara 1 : Ni Made Lalita Gita Gayatri dari Herman Yohanes 17 \n",
      "Juara 2 : Tjok Istri Sintawati dari Taroeno Djojodiningrat 2\n",
      "Juara 3 : Ramadi Syarif Hidayatullah dari Wreksodiningrat 49\n",
      "Juara Harapan 1 : Dinar Annasta Naja Mayra dari Poerbatjaraka 21 \n",
      "Juara Harapan 2 : Beta Nadhya Maimunah dari Soehardi Tjahjono 51\n",
      "Juara Harapan 3 : Richardus Krisna Dewandaru dari Soehardi Tjahjono 36\n",
      "Jangan lupa untuk selalu menjaga kesehatan!\n",
      "Selalu nantikan informasi terbaru melalui lini masa kami!\n",
      "Akun media sosial resmi PPSMB UGM:\n",
      "\n"
     ]
    }
   ],
   "source": [
    "print(df.sample(1)['processed'].values[-1])"
   ]
  },
  {
   "cell_type": "code",
   "execution_count": 8,
   "metadata": {},
   "outputs": [],
   "source": [
    "df['processed'].to_csv(\"list_caption.csv\", index=False)"
   ]
  },
  {
   "cell_type": "code",
   "execution_count": null,
   "metadata": {},
   "outputs": [],
   "source": []
  }
 ],
 "metadata": {
  "interpreter": {
   "hash": "a8f61be024eba58adef938c9aa1e29e02cb3dece83a5348b1a2dafd16a070453"
  },
  "kernelspec": {
   "display_name": "Python 3 (ipykernel)",
   "language": "python",
   "name": "python3"
  },
  "language_info": {
   "codemirror_mode": {
    "name": "ipython",
    "version": 3
   },
   "file_extension": ".py",
   "mimetype": "text/x-python",
   "name": "python",
   "nbconvert_exporter": "python",
   "pygments_lexer": "ipython3",
   "version": "3.9.7"
  }
 },
 "nbformat": 4,
 "nbformat_minor": 2
}
