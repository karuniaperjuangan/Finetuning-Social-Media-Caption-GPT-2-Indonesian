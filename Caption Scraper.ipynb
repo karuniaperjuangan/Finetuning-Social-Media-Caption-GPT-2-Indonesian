{
 "cells": [
  {
   "cell_type": "code",
   "execution_count": 56,
   "metadata": {},
   "outputs": [],
   "source": [
    "from bs4 import BeautifulSoup\n",
    "import pandas as pd\n",
    "import os\n",
    "import re"
   ]
  },
  {
   "cell_type": "code",
   "execution_count": 57,
   "metadata": {},
   "outputs": [],
   "source": [
    "\n",
    "def deEmojify(text):\n",
    "    regrex_pattern = re.compile(pattern = \"[\"\n",
    "        u\"\\U0001F600-\\U0001F64F\"  # emoticons\n",
    "        u\"\\U0001F300-\\U0001F5FF\"  # symbols & pictographs\n",
    "        u\"\\U0001F680-\\U0001F6FF\"  # transport & map symbols\n",
    "        u\"\\U0001F1E0-\\U0001F1FF\"  # flags (iOS)\n",
    "                           \"]+\", flags = re.UNICODE)\n",
    "    return regrex_pattern.sub(r'',text)\n",
    "\n",
    "def remove_url(text):\n",
    "    return re.sub(r'\\w+:\\/{2}[\\d\\w-]+(\\.[\\d\\w-]+)*(?:(?:\\/[^\\s/]*))*', '', text)\n",
    "\n",
    "def remove_identity(text):\n",
    "    return re.sub(r'\\n(Biro|Bidang|Kabinet|Divisi|Departemen|Himpunan|#|Line|Twitter|Instagram|Facebook|Youtube|Ask fm|Wa|WA|@).*', '\\n\\n', text)"
   ]
  },
  {
   "cell_type": "code",
   "execution_count": 58,
   "metadata": {},
   "outputs": [],
   "source": [
    "separator = \"<|endoftext|>\""
   ]
  },
  {
   "cell_type": "code",
   "execution_count": 59,
   "metadata": {},
   "outputs": [],
   "source": [
    "list_caption = []\n",
    "for file in os.listdir(\"Bahan Scraping\"):\n",
    "    with open(\"Bahan Scraping/\"+file) as fp:\n",
    "        soup = BeautifulSoup(fp, 'html.parser')\n",
    "        list_caption.extend( [i.get('alt') for i in soup.find_all('img') \n",
    "                            if re.search(r'\\[(.*?)\\]', i.get('alt',\"\"))]) \n",
    "list_caption = list(dict.fromkeys(list_caption))"
   ]
  },
  {
   "cell_type": "code",
   "execution_count": 60,
   "metadata": {},
   "outputs": [],
   "source": [
    "df = pd.DataFrame(list_caption, columns=['raw_caption'])\n",
    "\n",
    "\n",
    "#title is inside bracket\n",
    "df['title'] = df['raw_caption'].str.extract(r'\\[(.*?)\\]', expand=False)\n",
    "\n",
    "#Remove title from caption, remove leading newline, remove emoji\n",
    "df['content'] = df['raw_caption'].apply(lambda x: deEmojify(x)).apply(lambda x: remove_url(x)).apply(lambda x: remove_identity(x)).str.split(r'\\[.*?\\]').apply(lambda x: x[-1]).apply(lambda x: x.lstrip())\n",
    "\n",
    "df['processed'] = df.apply(lambda x: x['title']+\" - \"+x['content'], axis=1)\n"
   ]
  },
  {
   "cell_type": "code",
   "execution_count": 61,
   "metadata": {},
   "outputs": [
    {
     "data": {
      "text/plain": [
       "'SELAMAT DATANG GAMADA - Jika tidak ada yang dikorbankan, maka bukanlah suatu perjuangan.\\nJika berdiri tegak tanpa ujian, maka tidaklah dinamakan ketangguhan. \\nUntuk semua perjuangan, keringat, dan doa-doamu. \\nSelamat datang Mahasiswa Baru Universitas Gadjah Mada 2016 yang telah diterima melalui jalur SBMPTN. Selamat bergabung dalam keluarga besar kampus kerakyatan. Selamat berkarya untuk Indonesia yang lebih baik. \\nSalam Gadjah Mada Muda!\\n\\nInfo lebih lanjut :\\n\\n\\n\\n\\n\\n\\n\\n\\n\\n\\n\\n'"
      ]
     },
     "execution_count": 61,
     "metadata": {},
     "output_type": "execute_result"
    }
   ],
   "source": [
    "df.tail(10)['processed'].values[-10]"
   ]
  },
  {
   "cell_type": "code",
   "execution_count": 62,
   "metadata": {},
   "outputs": [],
   "source": [
    "df['processed'].to_csv(\"list_caption.csv\", index=False)"
   ]
  }
 ],
 "metadata": {
  "interpreter": {
   "hash": "a8f61be024eba58adef938c9aa1e29e02cb3dece83a5348b1a2dafd16a070453"
  },
  "kernelspec": {
   "display_name": "Python 3.9.7 ('base')",
   "language": "python",
   "name": "python3"
  },
  "language_info": {
   "codemirror_mode": {
    "name": "ipython",
    "version": 3
   },
   "file_extension": ".py",
   "mimetype": "text/x-python",
   "name": "python",
   "nbconvert_exporter": "python",
   "pygments_lexer": "ipython3",
   "version": "3.9.7"
  },
  "orig_nbformat": 4
 },
 "nbformat": 4,
 "nbformat_minor": 2
}
