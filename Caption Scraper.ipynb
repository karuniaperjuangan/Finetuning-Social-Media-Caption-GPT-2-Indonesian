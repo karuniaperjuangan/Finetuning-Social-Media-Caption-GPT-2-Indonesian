{
 "cells": [
  {
   "cell_type": "code",
   "execution_count": 1,
   "metadata": {},
   "outputs": [],
   "source": [
    "from bs4 import BeautifulSoup\n",
    "import pandas as pd\n",
    "import os\n",
    "import re"
   ]
  },
  {
   "cell_type": "code",
   "execution_count": 2,
   "metadata": {},
   "outputs": [],
   "source": [
    "\n",
    "def deEmojify(text):\n",
    "    regrex_pattern = re.compile(pattern = \"[\"\n",
    "        u\"\\U0001F600-\\U0001F64F\"  # emoticons\n",
    "        u\"\\U0001F300-\\U0001F5FF\"  # symbols & pictographs\n",
    "        u\"\\U0001F680-\\U0001F6FF\"  # transport & map symbols\n",
    "        u\"\\U0001F1E0-\\U0001F1FF\"  # flags (iOS)\n",
    "                           \"]+\", flags = re.UNICODE)\n",
    "    return regrex_pattern.sub(r'',text)\n",
    "\n",
    "def remove_url(text):\n",
    "    return re.sub(r'\\w+:\\/{2}[\\d\\w-]+(\\.[\\d\\w-]+)*(?:(?:\\/[^\\s/]*))*', '(Sebuah tautan)', text)\n",
    "\n",
    "def remove_identity(text):\n",
    "    # Menghapus banyak awalan yang menunjukkan identitas, walaupun banyak bagian caption yang terpotong sebagai konsekuensinya\n",
    "    return re.sub(r'\\n(?i)(Biro|Bidang|Kabinet|Divisi|Departemen|Himpunan|#|--|__|Our social media|Find more|Stay tune|Tetap terhubung|Contact us|Line|Email|Wa :|Laman|Website|Twitter|Instagram|Facebook|Youtube|Ask fm|FB|IG|@|Tiktok|Medium|KMTK FT UGM|KMTNTF FT UGM|KMTG|KMTETI FT UGM|KMTM FT-UGM|Pengurus KMTG|IKAMMA|HMTG FT UGM|Wiswakharman|Himakom UGM|HIMAGIKA FKKMK|Computer, Love, Life|Surel|Sipil\\? Solid.).*', '\\n\\n', text)"
   ]
  },
  {
   "cell_type": "code",
   "execution_count": 3,
   "metadata": {},
   "outputs": [],
   "source": [
    "separator = \"<|endoftext|>\""
   ]
  },
  {
   "cell_type": "code",
   "execution_count": 4,
   "metadata": {},
   "outputs": [],
   "source": [
    "list_caption = []\n",
    "for file in os.listdir(\"Bahan Scraping\"):\n",
    "    with open(\"Bahan Scraping/\"+file,  encoding=\"utf8\") as fp:\n",
    "        soup = BeautifulSoup(fp, 'html.parser')\n",
    "        list_caption.extend( [i.get('alt') for i in soup.find_all('img') \n",
    "                            if re.search(r'\\[(.*?)\\]', i.get('alt',\"\"))]) \n",
    "list_caption = list(dict.fromkeys(list_caption))"
   ]
  },
  {
   "cell_type": "code",
   "execution_count": 5,
   "metadata": {},
   "outputs": [
    {
     "name": "stderr",
     "output_type": "stream",
     "text": [
      "C:\\Users\\KARUNI~1\\AppData\\Local\\Temp/ipykernel_7156/3390151365.py:15: DeprecationWarning: Flags not at the start of the expression '\\\\n(?i)(Biro|Bidang|K' (truncated)\n",
      "  return re.sub(r'\\n(?i)(Biro|Bidang|Kabinet|Divisi|Departemen|Himpunan|#|--|__|Our social media|Find more|Stay tune|Tetap terhubung|Contact us|Line|Email|Wa :|Laman|Website|Twitter|Instagram|Facebook|Youtube|Ask fm|FB|IG|@|Tiktok|Medium|KMTK FT UGM|KMTNTF FT UGM|KMTG|KMTETI FT UGM|KMTM FT-UGM|Pengurus KMTG|IKAMMA|HMTG FT UGM|Wiswakharman|Himakom UGM|HIMAGIKA FKKMK|Computer, Love, Life|Surel|Sipil\\? Solid.).*', '\\n\\n', text)\n"
     ]
    }
   ],
   "source": [
    "df = pd.DataFrame(list_caption, columns=['raw_caption'])\n",
    "\n",
    "\n",
    "#title is inside bracket\n",
    "df['title'] = df['raw_caption'].str.extract(r'\\[(.*?)\\]', expand=False)\n",
    "\n",
    "#Remove title from caption, remove leading newline, remove emoji\n",
    "df['content'] = df['raw_caption'].apply(lambda x: deEmojify(x)).apply(lambda x: remove_url(x)).str.split(r'\\[.*?\\]').apply(lambda x: x[-1]).apply(lambda x: x.lstrip()).apply(lambda x: remove_identity(x)).apply(lambda x : re.sub(r'\\n+', '\\n',x))\n",
    "\n",
    "df['processed'] = df.apply(lambda x: x['title']+\" - \"+x['content'], axis=1)\n"
   ]
  },
  {
   "cell_type": "code",
   "execution_count": 6,
   "metadata": {},
   "outputs": [
    {
     "name": "stdout",
     "output_type": "stream",
     "text": [
      "Kamis Puitis - Suramnya angkasa seakan turut berempati\n",
      "Menani diri yang diselimuti sepi\n",
      "Entah untuk yang ke berapa kali\n",
      "Malam seolah penuh dengan ilusi\n",
      "Tersenyum ia mempermainkan emosi\n",
      "Kecamuk hati kian waktu kian menjadi\n",
      "Merenung sejenak meratapi\n",
      "Kini tiada rumah tuk menepi\n",
      "Tiada topangan tuk berdiri\n",
      "Juga tiada lagi hati yang mengisi\n",
      "Sudah,\n",
      "Kali ini,\n",
      "Genap aku sendiri\n",
      "Oleh: Tiara Dina\n",
      "\n"
     ]
    }
   ],
   "source": [
    "print(df.sample(1)['processed'].values[0])"
   ]
  },
  {
   "cell_type": "code",
   "execution_count": 7,
   "metadata": {},
   "outputs": [],
   "source": [
    "df['processed'].to_csv(\"list_caption.csv\", index=False)"
   ]
  },
  {
   "cell_type": "code",
   "execution_count": null,
   "metadata": {},
   "outputs": [],
   "source": []
  }
 ],
 "metadata": {
  "interpreter": {
   "hash": "b09ec625f77bf4fd762565a912b97636504ad6ec901eb2d0f4cf5a7de23e1ee5"
  },
  "kernelspec": {
   "display_name": "Python 3.9.7 ('base')",
   "language": "python",
   "name": "python3"
  },
  "language_info": {
   "codemirror_mode": {
    "name": "ipython",
    "version": 3
   },
   "file_extension": ".py",
   "mimetype": "text/x-python",
   "name": "python",
   "nbconvert_exporter": "python",
   "pygments_lexer": "ipython3",
   "version": "3.9.7"
  }
 },
 "nbformat": 4,
 "nbformat_minor": 2
}
